{
 "cells": [
  {
   "cell_type": "code",
   "execution_count": null,
   "id": "initial_id",
   "metadata": {
    "collapsed": true
   },
   "outputs": [],
   "source": [
    "'''\n",
    "ПРИКЛАД 1.2\n",
    "\n",
    "https://www.kaggle.com/datasets/sahirmaharajj/fuel-economy\n",
    "\n",
    "Цей набір даних пропонує всебічний погляд на економію палива в автомобільному світі, \n",
    "досліджуючи деталі різних транспортних засобів, що охоплюють різні роки, марки та моделі. \n",
    "Він містить інформацію про технічні характеристики двигуна, типи палива, системи трансмісії \n",
    "та навіть такі фактори, як економія палива, викиди CO2 та технологічні особливості.\n",
    "'''"
   ]
  },
  {
   "cell_type": "code",
   "outputs": [
    {
     "name": "stdout",
     "output_type": "stream",
     "text": [
      "       vehicle_id  year        make               model  \\\n",
      "0           26587  1984  Alfa Romeo           GT V6 2.5   \n",
      "1           27705  1984  Alfa Romeo           GT V6 2.5   \n",
      "2           26561  1984  Alfa Romeo  Spider Veloce 2000   \n",
      "3           27681  1984  Alfa Romeo  Spider Veloce 2000   \n",
      "4           27550  1984  AM General   DJ Po Vehicle 2WD   \n",
      "...           ...   ...         ...                 ...   \n",
      "38108       37564  2017       Volvo            XC60 FWD   \n",
      "38109       37547  2017       Volvo            XC90 AWD   \n",
      "38110       37548  2017       Volvo            XC90 AWD   \n",
      "38111       37703  2017       Volvo       XC90 AWD PHEV   \n",
      "38112       37687  2017       Volvo            XC90 FWD   \n",
      "\n",
      "                                    class              drive  \\\n",
      "0                        Minicompact Cars                NaN   \n",
      "1                        Minicompact Cars                NaN   \n",
      "2                             Two Seaters                NaN   \n",
      "3                             Two Seaters                NaN   \n",
      "4             Special Purpose Vehicle 2WD      2-Wheel Drive   \n",
      "...                                   ...                ...   \n",
      "38108     Small Sport Utility Vehicle 2WD  Front-Wheel Drive   \n",
      "38109  Standard Sport Utility Vehicle 4WD    All-Wheel Drive   \n",
      "38110  Standard Sport Utility Vehicle 4WD    All-Wheel Drive   \n",
      "38111  Standard Sport Utility Vehicle 4WD    All-Wheel Drive   \n",
      "38112  Standard Sport Utility Vehicle 2WD  Front-Wheel Drive   \n",
      "\n",
      "            transmission transmission_type  engine_index engine_descriptor  \\\n",
      "0         Manual 5-Speed               NaN          9001             (FFS)   \n",
      "1         Manual 5-Speed               NaN          9005    (FFS) CA model   \n",
      "2         Manual 5-Speed               NaN          9002             (FFS)   \n",
      "3         Manual 5-Speed               NaN          9006    (FFS) CA model   \n",
      "4      Automatic 3-Speed               NaN          1830             (FFS)   \n",
      "...                  ...               ...           ...               ...   \n",
      "38108     Automatic (S8)               NaN            90              SIDI   \n",
      "38109     Automatic (S8)               NaN            52              SIDI   \n",
      "38110     Automatic (S8)               NaN            53              SIDI   \n",
      "38111     Automatic (S8)               NaN            54        SIDI; PHEV   \n",
      "38112     Automatic (S8)               NaN            50              SIDI   \n",
      "\n",
      "       ...  hours_to_charge_ac_240v  composite_city_mpg composite_highway_mpg  \\\n",
      "0      ...                      0.0                   0                     0   \n",
      "1      ...                      0.0                   0                     0   \n",
      "2      ...                      0.0                   0                     0   \n",
      "3      ...                      0.0                   0                     0   \n",
      "4      ...                      0.0                   0                     0   \n",
      "...    ...                      ...                 ...                   ...   \n",
      "38108  ...                      0.0                   0                     0   \n",
      "38109  ...                      0.0                   0                     0   \n",
      "38110  ...                      0.0                   0                     0   \n",
      "38111  ...                      0.0                  29                    32   \n",
      "38112  ...                      0.0                   0                     0   \n",
      "\n",
      "       composite_combined_mpg range_ft1 city_range_ft1  highway_range_ft1  \\\n",
      "0                           0         0            0.0                0.0   \n",
      "1                           0         0            0.0                0.0   \n",
      "2                           0         0            0.0                0.0   \n",
      "3                           0         0            0.0                0.0   \n",
      "4                           0         0            0.0                0.0   \n",
      "...                       ...       ...            ...                ...   \n",
      "38108                       0         0            0.0                0.0   \n",
      "38109                       0         0            0.0                0.0   \n",
      "38110                       0         0            0.0                0.0   \n",
      "38111                      30         0            0.0                0.0   \n",
      "38112                       0         0            0.0                0.0   \n",
      "\n",
      "       range_ft2  city_range_ft2  highway_range_ft2  \n",
      "0            NaN            0.00                0.0  \n",
      "1            NaN            0.00                0.0  \n",
      "2            NaN            0.00                0.0  \n",
      "3            NaN            0.00                0.0  \n",
      "4            NaN            0.00                0.0  \n",
      "...          ...             ...                ...  \n",
      "38108        NaN            0.00                0.0  \n",
      "38109        NaN            0.00                0.0  \n",
      "38110        NaN            0.00                0.0  \n",
      "38111        NaN           13.84               13.3  \n",
      "38112        NaN            0.00                0.0  \n",
      "\n",
      "[38113 rows x 81 columns]\n"
     ]
    }
   ],
   "source": [
    "import pandas as pd \n",
    "import numpy as np\n",
    "taxi_mex = pd.read_csv('dataset/fuel.csv', low_memory=False)\n",
    "print(taxi_mex)\n",
    "\n",
    "def generate_distribution_sample(data, sample_size, dist_size): \n",
    "    sample_means = []\n",
    "    for i in range(dist_size):\n",
    "        sample = np.random.choice(a = data, size = sample_size) \n",
    "        sample_means.append(np.mean(sample))\n",
    "    return sample_means\n",
    "\n",
    "sample_size = 10000\n",
    "dist_size = 38000\n",
    "sample_means = generate_distribution_sample(taxi_mex['city_range_ft1'], sample_size, dist_size)\n"
   ],
   "metadata": {
    "collapsed": false,
    "ExecuteTime": {
     "end_time": "2024-03-26T23:13:37.290522Z",
     "start_time": "2024-03-26T23:13:31.233552Z"
    }
   },
   "id": "d7ef26cfb36fc169",
   "execution_count": 16
  },
  {
   "cell_type": "code",
   "outputs": [
    {
     "data": {
      "text/plain": "<Figure size 640x480 with 1 Axes>",
      "image/png": "[encoded data removed]"
     },
     "metadata": {},
     "output_type": "display_data"
    }
   ],
   "source": [
    "import matplotlib.pyplot as plt \n",
    "plt.hist(sample_means, bins=50) \n",
    "plt.xlabel('city_range_ft1') \n",
    "plt.show()"
   ],
   "metadata": {
    "collapsed": false,
    "ExecuteTime": {
     "end_time": "2024-03-26T23:13:47.946382Z",
     "start_time": "2024-03-26T23:13:47.790597Z"
    }
   },
   "id": "a52ad80fe4c79cf0",
   "execution_count": 17
  },
  {
   "cell_type": "code",
   "outputs": [
    {
     "name": "stdout",
     "output_type": "stream",
     "text": [
      "conf interval for bootstrap: (0.25818226474999995, 0.6170705455000001)\n"
     ]
    }
   ],
   "source": [
    "np.sort(sample_means)\n",
    "lb = np.percentile(sample_means, 2.5)\n",
    "ub = np.percentile(sample_means, 97.5)\n",
    "print(\"conf interval for bootstrap:\", (lb, ub))"
   ],
   "metadata": {
    "collapsed": false,
    "ExecuteTime": {
     "end_time": "2024-03-26T23:54:07.367408Z",
     "start_time": "2024-03-26T23:54:07.356774Z"
    }
   },
   "id": "d2fe13bec3dc9d0",
   "execution_count": 25
  },
  {
   "cell_type": "code",
   "outputs": [],
   "source": [
    "'''\n",
    "ПРИКЛАД 1.3\n",
    "\n",
    "https://www.kaggle.com/datasets/sahirmaharajj/fuel-economy\n",
    "\n",
    "У статистиці t-критерій Стьюдента – це набір методів для перевірки гіпотез, \n",
    "які часто його використовують для перевірки рівності середніх значень вибірки. \n",
    "Для цього потрібно, щоб було обчислена спочатку t-статистика, після чого її \n",
    "потрібно порівняти з деяким граничним значенням, що дозволить прийняти рішення \n",
    "про прийняття або відхилення самої гіпотези.\n",
    "\n",
    "T-статистика будується за таким принципом: \n",
    "у чисельнику вказується величина з нульовим математичним очікуванням, \n",
    "а в знаменнику – стандартне відхилення від цієї випадкової величини.\n",
    "\n",
    "Алгоритм перевірки гіпотез побудований за таким принципом: \n",
    "для початку потрібно, щоб була визначена деяка нульова гіпотеза. \n",
    "У разі порівняння середніх потрібно прийняти припущення, \n",
    "що середні значення за двома вибірками рівні. \n",
    "Також визначається альтернативне їй припущення – нерівність середніх значень. \n",
    "Після цього обчислюється t-статистика і порівнюється з показником p-value \n",
    "(ймовірність прийняття нульової гіпотези).\n",
    "\n",
    "P-value – це ймовірність прийняття нульової гіпотези за умови, \n",
    "що справедлива альтернативна гіпотеза. \n",
    "Тобто, якщо p-value дуже маленьке значення, \n",
    "то, швидше за все, не відбуваються взагалі якісь випадкові процеси. \n",
    "Але якщо ж p-value досить велике, то ймовірність того, що вибірки, \n",
    "отримані випадковим чином, не мають ніяких зв’язків, дуже значна.\n",
    "\n",
    "\n",
    "'''"
   ],
   "metadata": {
    "collapsed": false
   },
   "id": "1e75f64f454c4c86"
  },
  {
   "cell_type": "code",
   "outputs": [],
   "source": [
    "import numpy as np \n",
    "from scipy import stats\n",
    "import matplotlib.pyplot as plt \n",
    "import pandas as pd\n",
    "%matplotlib inline\n",
    "set_1 = pd.read_csv('dataset/fuel.csv', low_memory=False)\n"
   ],
   "metadata": {
    "collapsed": false,
    "ExecuteTime": {
     "end_time": "2024-03-26T23:02:46.879677Z",
     "start_time": "2024-03-26T23:02:46.073855Z"
    }
   },
   "id": "3cb1cc5bd3a28670",
   "execution_count": 5
  },
  {
   "cell_type": "code",
   "outputs": [
    {
     "name": "stdout",
     "output_type": "stream",
     "text": [
      "TtestResult(statistic=2.8692428169297033, pvalue=0.004143336589608901, df=2999)\n"
     ]
    }
   ],
   "source": [
    "sample = set_1['city_range_ft1'].sample(n=3000) \n",
    "print(stats.ttest_1samp(sample, 0.05))"
   ],
   "metadata": {
    "collapsed": false,
    "ExecuteTime": {
     "end_time": "2024-03-26T23:02:55.839656Z",
     "start_time": "2024-03-26T23:02:55.833505Z"
    }
   },
   "id": "86ea8638f693f960",
   "execution_count": 6
  },
  {
   "cell_type": "code",
   "outputs": [
    {
     "data": {
      "text/plain": "(38113, 81)"
     },
     "execution_count": 7,
     "metadata": {},
     "output_type": "execute_result"
    }
   ],
   "source": [
    "set_1.shape"
   ],
   "metadata": {
    "collapsed": false,
    "ExecuteTime": {
     "end_time": "2024-03-26T23:03:00.380655Z",
     "start_time": "2024-03-26T23:03:00.377304Z"
    }
   },
   "id": "2027f22d45605f4",
   "execution_count": 7
  },
  {
   "cell_type": "code",
   "outputs": [
    {
     "name": "stdout",
     "output_type": "stream",
     "text": [
      "TtestResult(statistic=0.023170554051331123, pvalue=0.9815146891586664, df=9998.0)\n"
     ]
    }
   ],
   "source": [
    "print(stats.ttest_ind(set_1['city_range_ft1'].sample(n=5000), \n",
    "                      set_1['highway_range_ft1'].sample(n=5000)))"
   ],
   "metadata": {
    "collapsed": false,
    "ExecuteTime": {
     "end_time": "2024-03-26T23:03:05.810294Z",
     "start_time": "2024-03-26T23:03:05.804292Z"
    }
   },
   "id": "f93e8ee2160fe47d",
   "execution_count": 8
  },
  {
   "cell_type": "code",
   "outputs": [
    {
     "name": "stdout",
     "output_type": "stream",
     "text": [
      "TtestResult(statistic=2.139651660233698, pvalue=0.03239499588789927, df=19998.0)\n"
     ]
    }
   ],
   "source": [
    "print(stats.ttest_ind(set_1['city_range_ft2'].sample(n=10000), \n",
    "                      set_1['highway_range_ft2'].sample(n=10000)))"
   ],
   "metadata": {
    "collapsed": false,
    "ExecuteTime": {
     "end_time": "2024-03-26T23:03:08.292794Z",
     "start_time": "2024-03-26T23:03:08.286312Z"
    }
   },
   "id": "3f1f03de58ed92a1",
   "execution_count": 9
  },
  {
   "cell_type": "code",
   "outputs": [
    {
     "name": "stdout",
     "output_type": "stream",
     "text": [
      "TtestResult(statistic=-0.6505790999665874, pvalue=0.515339580821935, df=6999)\n"
     ]
    }
   ],
   "source": [
    "control = set_1['composite_city_mpg'].sample(n=7000)\n",
    "treatment = set_1['composite_highway_mpg'].sample(n=7000)\n",
    "print(stats.ttest_rel(control, treatment))\n"
   ],
   "metadata": {
    "collapsed": false,
    "ExecuteTime": {
     "end_time": "2024-03-26T23:03:09.347443Z",
     "start_time": "2024-03-26T23:03:09.341432Z"
    }
   },
   "id": "fa83ef61b775e6ab",
   "execution_count": 10
  },
  {
   "cell_type": "code",
   "outputs": [],
   "source": [],
   "metadata": {
    "collapsed": false
   },
   "id": "aa398a8eab6f1be4"
  }
 ],
 "metadata": {
  "kernelspec": {
   "display_name": "Python 3",
   "language": "python",
   "name": "python3"
  },
  "language_info": {
   "codemirror_mode": {
    "name": "ipython",
    "version": 2
   },
   "file_extension": ".py",
   "mimetype": "text/x-python",
   "name": "python",
   "nbconvert_exporter": "python",
   "pygments_lexer": "ipython2",
   "version": "2.7.6"
  }
 },
 "nbformat": 4,
 "nbformat_minor": 5
}
